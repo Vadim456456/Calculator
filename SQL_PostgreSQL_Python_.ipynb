{
  "nbformat": 4,
  "nbformat_minor": 0,
  "metadata": {
    "colab": {
      "provenance": [],
      "authorship_tag": "ABX9TyOMFoVeWLzfljuCvYXTyibT",
      "include_colab_link": true
    },
    "kernelspec": {
      "name": "python3",
      "display_name": "Python 3"
    },
    "language_info": {
      "name": "python"
    }
  },
  "cells": [
    {
      "cell_type": "markdown",
      "metadata": {
        "id": "view-in-github",
        "colab_type": "text"
      },
      "source": [
        "<a href=\"https://colab.research.google.com/github/Vadim456456/Calculator/blob/main/SQL_PostgreSQL_Python_.ipynb\" target=\"_parent\"><img src=\"https://colab.research.google.com/assets/colab-badge.svg\" alt=\"Open In Colab\"/></a>"
      ]
    },
    {
      "cell_type": "markdown",
      "source": [
        "Задачи по SQL\n",
        "\n",
        "Входные данные. Даны 3 таблицы dep, emp, fin\n",
        "\n",
        "dep: id, name\n",
        "\n",
        "emp: id, name, dep_id, age, salary\n",
        "\n",
        "fin: month, emp_id, salary\n",
        "\n",
        "dep:\n",
        "1, Бухгалтерия\n",
        "\n",
        "2, Кадры\n",
        "\n",
        "emp:\n",
        "\n",
        "1, Иванов, 1,45,100\n",
        "\n",
        "2, Петров, 1,34,86\n",
        "\n",
        "3, Петров, 1,18,75\n",
        "\n",
        "4, Петров, 1,56,92\n",
        "\n",
        "5, Сидоров, 1,28,101\n",
        "\n",
        "6, Сидоров, 1,37,79\n",
        "\n",
        "7, Сидоров, 2,31,55\n",
        "\n",
        "8, Сидоров, 2,30,67\n",
        "\n",
        "9, Федотов, 2,18,43"
      ],
      "metadata": {
        "id": "fnrpvA8Ao_0m"
      }
    },
    {
      "cell_type": "code",
      "source": [
        "import sqlite3"
      ],
      "metadata": {
        "id": "rg4Z4ARpIJcW"
      },
      "execution_count": 50,
      "outputs": []
    },
    {
      "cell_type": "code",
      "source": [
        "conn = sqlite3.connect(':memory:') #Создаю соединение БД\n",
        "cursor = conn.cursor()"
      ],
      "metadata": {
        "id": "h_zMi7LhKf3P"
      },
      "execution_count": 51,
      "outputs": []
    },
    {
      "cell_type": "code",
      "source": [
        "cursor.execute('''\n",
        "CREATE TABLE dep (\n",
        "    id INTEGER PRIMARY KEY,\n",
        "    name TEXT\n",
        ")\n",
        "''')\n",
        "#Создал таблицу dep\n",
        "cursor.executemany('''\n",
        "INSERT INTO dep (id, name) VALUES (?, ?)\n",
        "''', [\n",
        "    (1, 'Бухгалтерия'),\n",
        "    (2, 'Кадры')\n",
        "]) #Заполнил таблицу dep\n",
        "\n",
        "conn.commit()\n",
        "\n",
        "cursor.execute('SELECT * FROM dep')\n",
        "results_dep = cursor.fetchall()\n",
        "\n",
        "for row_dep in results_dep:\n",
        "    print(row_dep)"
      ],
      "metadata": {
        "colab": {
          "base_uri": "https://localhost:8080/"
        },
        "id": "MXFBYWPnM0r3",
        "outputId": "f8eedf31-f6ae-474f-eb09-2cf1d5ab47e9"
      },
      "execution_count": null,
      "outputs": [
        {
          "output_type": "stream",
          "name": "stdout",
          "text": [
            "(1, 'Бухгалтерия')\n",
            "(2, 'Кадры')\n"
          ]
        }
      ]
    },
    {
      "cell_type": "code",
      "source": [
        "cursor.execute('''\n",
        "CREATE TABLE emp (\n",
        "    id INTEGER PRIMARY KEY,\n",
        "    name TEXT,\n",
        "    dep_id INTEGER,\n",
        "    age INTEGER,\n",
        "    salary REAL\n",
        ")\n",
        "''') #Создал таблицу emp\n",
        "\n",
        "cursor.executemany('''\n",
        "INSERT INTO emp (id, name, dep_id, age, salary) VALUES (?, ?, ?, ?, ?)\n",
        "''', [\n",
        "    (1, 'Иванов', 1, 45, 100),\n",
        "    (2, 'Петров', 1, 34, 86),\n",
        "    (3, 'Петров', 1, 18, 75),\n",
        "    (4, 'Петров', 1, 56, 92),\n",
        "    (5, 'Сидоров', 1, 28, 101),\n",
        "    (6, 'Сидоров', 1, 37, 79),\n",
        "    (7, 'Сидоров', 2, 31, 55),\n",
        "    (8, 'Сидоров', 2, 30, 67),\n",
        "    (9, 'Федотов', 2, 18, 43)\n",
        "]) #Заполнил таблицу emp\n",
        "\n",
        "conn.commit()\n",
        "\n",
        "cursor.execute('SELECT * FROM emp')\n",
        "results_emp = cursor.fetchall()\n",
        "\n",
        "for row_emp in results_emp:\n",
        "    print(row_emp)"
      ],
      "metadata": {
        "colab": {
          "base_uri": "https://localhost:8080/"
        },
        "id": "vpJzHGhZM34k",
        "outputId": "51fbbb19-9872-4ec3-aeeb-a3f01b67f4bc"
      },
      "execution_count": null,
      "outputs": [
        {
          "output_type": "stream",
          "name": "stdout",
          "text": [
            "(1, 'Иванов', 1, 45, 100.0)\n",
            "(2, 'Петров', 1, 34, 86.0)\n",
            "(3, 'Петров', 1, 18, 75.0)\n",
            "(4, 'Петров', 1, 56, 92.0)\n",
            "(5, 'Сидоров', 1, 28, 101.0)\n",
            "(6, 'Сидоров', 1, 37, 79.0)\n",
            "(7, 'Сидоров', 2, 31, 55.0)\n",
            "(8, 'Сидоров', 2, 30, 67.0)\n",
            "(9, 'Федотов', 2, 18, 43.0)\n"
          ]
        }
      ]
    },
    {
      "cell_type": "code",
      "source": [
        "cursor.execute('''\n",
        "CREATE TABLE fin (\n",
        "    month INTEGER,\n",
        "    emp_id INTEGER,\n",
        "    salary INTEGER\n",
        ")\n",
        "''') # Создал таблицу fin\n",
        "\n",
        "cursor.executemany('''\n",
        "INSERT INTO fin (month, emp_id, salary) VALUES (?, ?, ?)\n",
        "''', [\n",
        "    (1, 1, 50),\n",
        "    (2, 1, 50),\n",
        "    (3, 1, 50),\n",
        "    (1, 2, 60),\n",
        "    (2, 2, 60),\n",
        "    (3, 2, 60)\n",
        "])\n",
        "\n",
        "conn.commit()\n",
        "\n",
        "cursor.execute('SELECT * FROM fin')\n",
        "results_fin = cursor.fetchall()\n",
        "\n",
        "for row_fin in results_fin:\n",
        "    print(row_fin)"
      ],
      "metadata": {
        "colab": {
          "base_uri": "https://localhost:8080/"
        },
        "id": "DGqv5A5oM9y3",
        "outputId": "943aac85-134c-44a8-9aa2-58c10ca9f48b"
      },
      "execution_count": null,
      "outputs": [
        {
          "output_type": "stream",
          "name": "stdout",
          "text": [
            "(1, 1, 50)\n",
            "(2, 1, 50)\n",
            "(3, 1, 50)\n",
            "(1, 2, 60)\n",
            "(2, 2, 60)\n",
            "(3, 2, 60)\n"
          ]
        }
      ]
    },
    {
      "cell_type": "code",
      "source": [
        "\n",
        "cursor.close()\n",
        "conn.close()"
      ],
      "metadata": {
        "id": "0vb8UcfufcAz"
      },
      "execution_count": null,
      "outputs": []
    },
    {
      "cell_type": "markdown",
      "source": [
        "--1 Задание. Даны таблицы emp и dep. Необходимо посчитать количество однофамильцев в отделах.\n",
        "\n",
        "-- Итоговый результат, который должен получится:\n",
        "\n",
        "Бухгалтерия, 5\n",
        "\n",
        "Кадры, 2"
      ],
      "metadata": {
        "id": "AIa4xKLjq0mF"
      }
    },
    {
      "cell_type": "code",
      "source": [
        "query = '''\n",
        "WITH counted_emp AS (\n",
        "    SELECT\n",
        "        d.name AS department_name,\n",
        "        e.name AS employee_name,\n",
        "        COUNT(*) OVER (PARTITION BY e.name, d.id) AS employee_count\n",
        "    FROM emp e\n",
        "    JOIN dep d ON e.dep_id = d.id\n",
        ")\n",
        "SELECT department_name,\n",
        "    SUM(CASE WHEN employee_count > 1 THEN 1 ELSE 0 END) AS onefamilies_count\n",
        "FROM counted_emp\n",
        "GROUP BY department_name;\n",
        "'''\n",
        "\n",
        "cursor.execute(query)\n",
        "results = cursor.fetchall()\n",
        "\n",
        "for result_counted in results:\n",
        "    print(f\"{result_counted[0]}, {result_counted[1]}\")"
      ],
      "metadata": {
        "colab": {
          "base_uri": "https://localhost:8080/"
        },
        "id": "UbiYrgjjNci3",
        "outputId": "e4901792-4111-47a0-a08b-05cee347bb0c"
      },
      "execution_count": null,
      "outputs": [
        {
          "output_type": "stream",
          "name": "stdout",
          "text": [
            "Бухгалтерия, 5\n",
            "Кадры, 2\n"
          ]
        }
      ]
    },
    {
      "cell_type": "markdown",
      "source": [
        "--2 Задание. Дана таблица fin с заполненными полями month, emp_id, salary. Необходимо посчитать нарастающий итог по каждому сотруднику.\n",
        "\n",
        "--Итоговый результат отобразить в поле sum_salary\n",
        "\n",
        "fin: month, emp_id, salary, sum_salary\n",
        "\n",
        "1,1,50,50\n",
        "\n",
        "2,1,50,100\n",
        "\n",
        "3,1,50,150\n",
        "\n",
        "1,2,60,60\n",
        "\n",
        "2,2,60,120\n",
        "\n",
        "3,2,60,180"
      ],
      "metadata": {
        "id": "hB7BSJy0wEIm"
      }
    },
    {
      "cell_type": "code",
      "source": [
        "query_fin = '''\n",
        "SELECT\n",
        "    month,\n",
        "    emp_id,\n",
        "    salary,\n",
        "    SUM(salary) OVER (PARTITION BY emp_id ORDER BY month) AS sum_salary\n",
        "FROM\n",
        "    fin\n",
        "'''\n",
        "\n",
        "cursor.execute(query_fin)\n",
        "results_fin = cursor.fetchall()\n",
        "\n",
        "for result_fin in results_fin:\n",
        "    print(result_fin)"
      ],
      "metadata": {
        "id": "V-i3X866yglK",
        "colab": {
          "base_uri": "https://localhost:8080/"
        },
        "outputId": "14f10753-b7a6-480e-8582-d2aa77da6dc8"
      },
      "execution_count": null,
      "outputs": [
        {
          "output_type": "stream",
          "name": "stdout",
          "text": [
            "(1, 1, 50, 50)\n",
            "(2, 1, 50, 100)\n",
            "(3, 1, 50, 150)\n",
            "(1, 2, 60, 60)\n",
            "(2, 2, 60, 120)\n",
            "(3, 2, 60, 180)\n"
          ]
        }
      ]
    },
    {
      "cell_type": "markdown",
      "source": [
        "-- 3 Задание. Имеется таблица dep2 в которой появились полные дубли записей.\n",
        "\n",
        "Необходимо восстановление уникальности записей в таблице и привести ее к виду dep1\n",
        "\n",
        "dep1\n",
        "\n",
        "1, Бухгалтерия\n",
        "\n",
        "2, Кадры\n",
        "\n",
        "dep2\n",
        "\n",
        "1,Бухгалтерия 1\n",
        "\n",
        "1,Бухгалтерия 2\n",
        "\n",
        "1,Бухгалтерия 3\n",
        "\n",
        "1,Бухгалтерия 4\n",
        "\n",
        "1,Бухгалтерия 5\n",
        "\n",
        "2, Кадры 1\n",
        "\n",
        "2, Кадры 2\n",
        "\n",
        "2, Кадры 3"
      ],
      "metadata": {
        "id": "FhnQ8BpIyg59"
      }
    },
    {
      "cell_type": "code",
      "source": [
        "cursor.execute('''\n",
        "CREATE TABLE dep2 AS\n",
        "SELECT *\n",
        "FROM dep\n",
        "''')\n",
        "\n",
        "conn.commit()\n",
        "\n",
        "cursor.execute('SELECT * FROM dep2')\n",
        "results_dep2 = cursor.fetchall()\n",
        "\n",
        "for row_dep2 in results_dep2:\n",
        "    print(row_dep2)\n",
        "\n",
        "#Копировали таблицу dep и с помощью её сделали dep2"
      ],
      "metadata": {
        "id": "42VJTo8LzU61",
        "colab": {
          "base_uri": "https://localhost:8080/"
        },
        "outputId": "65e67db1-ebcb-48a9-cb88-e7d80b9908f5"
      },
      "execution_count": null,
      "outputs": [
        {
          "output_type": "stream",
          "name": "stdout",
          "text": [
            "(1, 'Бухгалтерия')\n",
            "(2, 'Кадры')\n"
          ]
        }
      ]
    },
    {
      "cell_type": "code",
      "source": [
        "unique_table = '''\n",
        "SELECT *\n",
        "FROM dep\n",
        "UNION\n",
        "SELECT *\n",
        "FROM dep2 '''\n",
        "\n",
        "cursor.execute(unique_table)\n",
        "results_dep2 = cursor.fetchall()\n",
        "\n",
        "for result_dep2 in results_dep2:\n",
        "    print(f\"{result_dep2[0]}, {result_dep2[1]}\")"
      ],
      "metadata": {
        "colab": {
          "base_uri": "https://localhost:8080/"
        },
        "id": "8_W3bDaWdSWJ",
        "outputId": "ad407479-2c27-479f-ff68-a10a61e6faf4"
      },
      "execution_count": null,
      "outputs": [
        {
          "output_type": "stream",
          "name": "stdout",
          "text": [
            "1, Бухгалтерия\n",
            "2, Кадры\n"
          ]
        }
      ]
    },
    {
      "cell_type": "markdown",
      "source": [
        "--4 Задание. Оптимизация запросов в SQL\n",
        "\n",
        "Имеется базы, в которой есть столбец с датой и временем - они указаны по Гринвичу (-3 от МСК)\n",
        "\n",
        "На столбец start_date есть индекс.\n",
        "\n",
        "Как оптимизировать следующий запрос, если дата и время на выходе нам нужны уже по МСК:\n",
        "\n",
        "declare @start as datetime= \"2000-03-01 00:00:00\";\n",
        "\n",
        "declare @end as datetime = \"2000-03-31 23:59:59\";\n",
        "\n",
        "select name, start_date as time_utc, dateadd(hour, 3, start_date) as time_msk\n",
        "from DQ.DB.employers\n",
        "where dateadd(hour, 3, start_date) between @start and @end"
      ],
      "metadata": {
        "id": "-QPkz5KzzVQe"
      }
    },
    {
      "cell_type": "code",
      "source": [
        "conn = sqlite3.connect(':time_change_to_msk:')\n",
        "cursor = conn.cursor()"
      ],
      "metadata": {
        "id": "kwlBpC3k93V3"
      },
      "execution_count": 53,
      "outputs": []
    },
    {
      "cell_type": "code",
      "source": [
        "cursor.execute('''\n",
        "SELECT\n",
        "    '2000-03-01 00:00:00' AS start_time_gmt,\n",
        "    datetime('2000-03-01 00:00:00', '+3 hours') AS start_time_msk,\n",
        "    '2000-03-31 23:59:59' AS end_time_gmt,\n",
        "    datetime('2000-03-31 23:59:59', '+3 hours') AS end_time_msk;\n",
        "    ''')\n",
        "\n",
        "result = cursor.fetchall()\n",
        "\n",
        "for row in result:\n",
        "    print(f\"Start Time GMT: {row[0]}, Start Time MSK: {row[1]}\") #Отображение по Гринвичу\n",
        "    print(f\"End Time GMT: {row[2]}, End Time MSK: {row[3]}\") #Отображение по Московскому времени"
      ],
      "metadata": {
        "colab": {
          "base_uri": "https://localhost:8080/"
        },
        "id": "B8irUcJ6-nZM",
        "outputId": "99db60c3-043f-4531-d94f-df54614b1484"
      },
      "execution_count": 60,
      "outputs": [
        {
          "output_type": "stream",
          "name": "stdout",
          "text": [
            "Start Time GMT: 2000-03-01 00:00:00, Start Time MSK: 2000-03-01 03:00:00\n",
            "End Time GMT: 2000-03-31 23:59:59, End Time MSK: 2000-04-01 02:59:59\n"
          ]
        }
      ]
    },
    {
      "cell_type": "markdown",
      "source": [
        "-- Python\n",
        "\n",
        "--5 Задание. Дана ведомость в которой два столбца - отдел и сотрудник.\n",
        "\n",
        "Необходимо подсчитать количество уникальных сотрудников в каждом отделе. Результат отразить в поле Cnt\n",
        "\n",
        "df: A,B\n",
        "\n",
        "Отдел Сотрудник Cnt\n",
        "\n",
        "1 1 3\n",
        "\n",
        "1 2 3\n",
        "\n",
        "2 3 1\n",
        "\n",
        "3 6 1\n",
        "\n",
        "1 7 3\n",
        "\n",
        "3 6 1"
      ],
      "metadata": {
        "id": "XcxMyZG10nUR"
      }
    },
    {
      "cell_type": "code",
      "source": [
        "import pandas as pd"
      ],
      "metadata": {
        "id": "qj8XGg-mzPMc"
      },
      "execution_count": 8,
      "outputs": []
    },
    {
      "cell_type": "code",
      "source": [
        "data = {\n",
        "    'A': [1, 1, 2, 3, 1, 3],\n",
        "    'B': [1, 2, 3, 6, 7, 6]\n",
        "}\n",
        "\n",
        "df = pd.DataFrame(data, columns=['A', 'B'])\n",
        "unique_counts = df.groupby('A')['B'].nunique().reset_index(name='Cnt')\n",
        "df = df.merge(unique_counts, on='A', how='left')\n",
        "\n",
        "print(df.to_string(index=False)) #Убираем индекс"
      ],
      "metadata": {
        "id": "5J8sg9hP1ak3",
        "colab": {
          "base_uri": "https://localhost:8080/"
        },
        "outputId": "8ddeb94d-f95e-4160-a1a1-f6d3abdf75aa"
      },
      "execution_count": 10,
      "outputs": [
        {
          "output_type": "stream",
          "name": "stdout",
          "text": [
            " A  B  Cnt\n",
            " 1  1    3\n",
            " 1  2    3\n",
            " 2  3    1\n",
            " 3  6    1\n",
            " 1  7    3\n",
            " 3  6    1\n"
          ]
        }
      ]
    },
    {
      "cell_type": "markdown",
      "source": [
        "-- 6 Задание. Дан df содержащий количество авторизаций сотрудников по неделям.\n",
        "Необходимо посчитать количество авторизаций по каждому сотруднику за каждую неделю и суммарное количество с начала периода.\n",
        "\n",
        "Результат отобразить в полях cnt и sum\n",
        "\n",
        "df= pd.DataFrame( {'w':[1,1,2,2,2,3,3,3,4,4,4],\n",
        "\n",
        "'user':['User2', 'User3', 'User1', 'User1', 'User2', 'User2', 'User2', 'User3', 'User1', 'User1', 'User3'],\n",
        "\n",
        "'c':[7,2,3,1,2,5,4,6,9,8,7]})\n",
        "\n",
        "Входные данные:\n",
        "\n",
        "w=week user cnt\n",
        "\n",
        "1 User2 7\n",
        "\n",
        "1 User3 2\n",
        "\n",
        "2 User1 3\n",
        "\n",
        "2 User1 1\n",
        "\n",
        "2 User2 2\n",
        "\n",
        "3 User2 5\n",
        "\n",
        "3 User2 4\n",
        "\n",
        "3 User3 6\n",
        "\n",
        "4 User1 9\n",
        "\n",
        "4 User1 8\n",
        "\n",
        "4 User3 7\n",
        "\n",
        "-------------\n",
        "\n",
        "На выходе получаем:\n",
        "\n",
        "w user cnt sum\n",
        "\n",
        "1 User1 0 0\n",
        "\n",
        "1 User2 7 7\n",
        "\n",
        "1 User3 2 2\n",
        "\n",
        "2 User1 4 4\n",
        "\n",
        "2 User2 2 9\n",
        "\n",
        "2 User3 0 2\n",
        "\n",
        "3 User1 0 4\n",
        "\n",
        "3 User2 9 18\n",
        "\n",
        "3 User3 6 8\n",
        "\n",
        "4 User1 17 21\n",
        "\n",
        "4 User2 0 18\n",
        "\n",
        "4 User3 7 15\n"
      ],
      "metadata": {
        "id": "tsDYlNux1a-Q"
      }
    },
    {
      "cell_type": "code",
      "source": [
        "#Так как ранее мы импортировали pd, сейчас этот делать не будем\n",
        "\n",
        "data = {\n",
        "    'w': [1, 1, 2, 2, 2, 3, 3, 3, 4, 4, 4],\n",
        "    'user': ['User2', 'User3', 'User1', 'User1', 'User2', 'User2', 'User2', 'User3', 'User1', 'User1', 'User3'],\n",
        "    'c': [7, 2, 3, 1, 2, 5, 4, 6, 9, 8, 7]\n",
        "}\n",
        "\n",
        "df = pd.DataFrame(data)\n",
        "grouped = df.groupby(['w', 'user'])['c'].sum().reset_index()\n",
        "index = pd.MultiIndex.from_product([df['w'].unique(), df['user'].unique()], names=['w', 'user'])"
      ],
      "metadata": {
        "id": "II8QWVTd4zZX"
      },
      "execution_count": 11,
      "outputs": []
    },
    {
      "cell_type": "code",
      "source": [
        "grouped_full = grouped.set_index(['w', 'user']).reindex(index, fill_value=0).reset_index()\n",
        "grouped_full['sum'] = grouped_full.groupby('user')['c'].cumsum()\n",
        "grouped_full.columns = ['w', 'user', 'cnt', 'sum']\n",
        "grouped_full.sort_values(by=['w', 'user'], inplace=True)\n",
        "\n",
        "print(grouped_full.to_string(index=False))"
      ],
      "metadata": {
        "colab": {
          "base_uri": "https://localhost:8080/"
        },
        "id": "bJy2ARLN0QPB",
        "outputId": "914bb1cb-7d8c-4976-f6c2-e157e7080cf4"
      },
      "execution_count": 13,
      "outputs": [
        {
          "output_type": "stream",
          "name": "stdout",
          "text": [
            " w  user  cnt  sum\n",
            " 1 User1    0    0\n",
            " 1 User2    7    7\n",
            " 1 User3    2    2\n",
            " 2 User1    4    4\n",
            " 2 User2    2    9\n",
            " 2 User3    0    2\n",
            " 3 User1    0    4\n",
            " 3 User2    9   18\n",
            " 3 User3    6    8\n",
            " 4 User1   17   21\n",
            " 4 User2    0   18\n",
            " 4 User3    7   15\n"
          ]
        }
      ]
    }
  ]
}